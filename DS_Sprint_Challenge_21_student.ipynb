{
  "nbformat": 4,
  "nbformat_minor": 0,
  "metadata": {
    "colab": {
      "name": "DS_Sprint_Challenge_21_student.ipynb",
      "provenance": [],
      "collapsed_sections": [],
      "toc_visible": true,
      "include_colab_link": true
    },
    "kernelspec": {
      "display_name": "Python 3",
      "language": "python",
      "name": "python3"
    },
    "language_info": {
      "codemirror_mode": {
        "name": "ipython",
        "version": 3
      },
      "file_extension": ".py",
      "mimetype": "text/x-python",
      "name": "python",
      "nbconvert_exporter": "python",
      "pygments_lexer": "ipython3",
      "version": "3.8.5"
    }
  },
  "cells": [
    {
      "cell_type": "markdown",
      "metadata": {
        "id": "view-in-github",
        "colab_type": "text"
      },
      "source": [
        "<a href=\"https://colab.research.google.com/github/ivan-mihailov/LS-Unit-2-Sprint-1-Assignments/blob/main/DS_Sprint_Challenge_21_student.ipynb\" target=\"_parent\"><img src=\"https://colab.research.google.com/assets/colab-badge.svg\" alt=\"Open In Colab\"/></a>"
      ]
    },
    {
      "cell_type": "markdown",
      "metadata": {
        "deletable": false,
        "editable": false,
        "id": "VZf2akBaMjq8",
        "nbgrader": {
          "cell_type": "markdown",
          "checksum": "5da6bffe5472ee58690e340cb84ff1e7",
          "grade": false,
          "grade_id": "cell-39039e97c5ca497a",
          "locked": true,
          "schema_version": 3,
          "solution": false,
          "task": false
        }
      },
      "source": [
        "Lambda School Data Science\n",
        "\n",
        "*Unit 2, Sprint 1*\n",
        "\n",
        "---\n",
        "\n",
        "👇 **Do not change the code in this cell.** If you're working in Google Colab, you can run this cell to install `category_encoders`."
      ]
    },
    {
      "cell_type": "code",
      "metadata": {
        "deletable": false,
        "editable": false,
        "nbgrader": {
          "cell_type": "code",
          "checksum": "53464cc768e269c070c42bd152223bbc",
          "grade": false,
          "grade_id": "cell-99b74e54a46dec38",
          "locked": true,
          "schema_version": 3,
          "solution": false,
          "task": false
        },
        "id": "tcnUjtV30QiB"
      },
      "source": [
        "%%capture\n",
        "# If you're in Colab...\n",
        "import sys\n",
        "if 'google.colab' in sys.modules:\n",
        "    !pip install category_encoders==2.*"
      ],
      "execution_count": 1,
      "outputs": []
    },
    {
      "cell_type": "markdown",
      "metadata": {
        "deletable": false,
        "editable": false,
        "nbgrader": {
          "cell_type": "markdown",
          "checksum": "8ffcbfcc12357213a3be26710877c891",
          "grade": false,
          "grade_id": "cell-6c3b25a3a9ca2f0a",
          "locked": true,
          "schema_version": 3,
          "solution": false,
          "task": false
        },
        "id": "sldwYgVP0QiD"
      },
      "source": [
        " \n",
        "# Sprint Challenge: Predicting Home Prices in Iowa 🏠\n",
        "\n",
        "The goal of this assignment is to build a regression model that can predict the sale price of a house in Aimes, Iowa.\n",
        "\n",
        "# Directions \n",
        "\n",
        "This notebook contains 12 tasks, which cover the material we've learned in this sprint. Here's a summary:\n",
        "\n",
        "- **Task 1:** Import training data.\n",
        "- **Task 2 (`stretch goal`):** Create scatter plot.\n",
        "- **Task 3:** Split data into feature matrix and target vector.\n",
        "- **Task 4:** Split data into training and validation sets.\n",
        "- **Task 5:** Establish baseline mean absolute error.\n",
        "- **Task 6:** Build and train linear regression model.\n",
        "- **Task 7:** Build and train ridge regression model.\n",
        "- **Task 8:** Calculate mean absolute error for training and validation sets.\n",
        "- **Task 9:** Calculate $R^2$ for validation set.\n",
        "- **Task 10:** Make predictions based on test set.\n",
        "- **Task 11 (`stretch goal`):** Get below 18,000 for test set MAE. \n",
        "- **Task 12 (`stretch goal`):** Plot model coefficients.\n",
        "\n",
        "For each task you should do the following:\n",
        "\n",
        "- Read the task instructions.\n",
        "- Write your code in the cell below the task. Delete the `raise NotImplementedError` before your start.\n",
        "- Run the testing cell below the task. If you get an error, read the error message and re-evaluate your code.\n",
        "\n",
        "**You should limit your code to the following libraries:**\n",
        "\n",
        "- `category_encoders`\n",
        "- `numpy`\n",
        "- `matplotlib`\n",
        "- `pandas`\n",
        "- `sklearn` \n",
        "\n",
        "# Tasks\n",
        "\n",
        "## I. Wrangle Data\n",
        "\n",
        "**Task 1:** Since real estate prices fluctuate over time, it's important to index the houses in this dataset using the year in which they were sold. First, load the dataset into a DataFrame named `df` and find the column that states the year sold. Next, modify the code below so that `Yr_Sold` column is parsed as a datetime object and set as the index."
      ]
    },
    {
      "cell_type": "code",
      "metadata": {
        "colab": {
          "base_uri": "https://localhost:8080/",
          "height": 340
        },
        "deletable": false,
        "id": "7ptoRG1lu7H4",
        "nbgrader": {
          "cell_type": "code",
          "checksum": "971bae389cac7fcc8b6b743b55faaa50",
          "grade": false,
          "grade_id": "cell-f40876cb08c183d1",
          "locked": false,
          "schema_version": 3,
          "solution": true,
          "task": false
        },
        "outputId": "995557c4-909e-4c70-faac-edfa256ca1a0"
      },
      "source": [
        "'''T1: Import data into DataFrame `df`.'''\n",
        "import pandas as pd\n",
        "\n",
        "url_train = 'https://drive.google.com/uc?export=download&id=1tmYLQ1RwIgjI_d66PWnlXU-5D_VxtiQc'\n",
        "df = pd.read_csv(url_train)\n",
        "# YOUR CODE HERE\n",
        "df['Yr_Sold'] = pd.to_datetime(df['Yr_Sold']) # Transform 'Yr_Sold' column to DateTime format\n",
        "df = df.set_index('Yr_Sold') # Set 'Yr_Sold' column as index for the DataFrame\n",
        "df.head()"
      ],
      "execution_count": 2,
      "outputs": [
        {
          "output_type": "execute_result",
          "data": {
            "text/html": [
              "<div>\n",
              "<style scoped>\n",
              "    .dataframe tbody tr th:only-of-type {\n",
              "        vertical-align: middle;\n",
              "    }\n",
              "\n",
              "    .dataframe tbody tr th {\n",
              "        vertical-align: top;\n",
              "    }\n",
              "\n",
              "    .dataframe thead th {\n",
              "        text-align: right;\n",
              "    }\n",
              "</style>\n",
              "<table border=\"1\" class=\"dataframe\">\n",
              "  <thead>\n",
              "    <tr style=\"text-align: right;\">\n",
              "      <th></th>\n",
              "      <th>1st_Flr_SF</th>\n",
              "      <th>Bedroom_AbvGr</th>\n",
              "      <th>Bldg_Type</th>\n",
              "      <th>Bsmt_Full_Bath</th>\n",
              "      <th>Bsmt_Half_Bath</th>\n",
              "      <th>Central_Air</th>\n",
              "      <th>Condition_1</th>\n",
              "      <th>Condition_2</th>\n",
              "      <th>Electrical</th>\n",
              "      <th>Exter_Cond</th>\n",
              "      <th>Exter_Qual</th>\n",
              "      <th>Exterior_1st</th>\n",
              "      <th>Exterior_2nd</th>\n",
              "      <th>Foundation</th>\n",
              "      <th>Full_Bath</th>\n",
              "      <th>Functional</th>\n",
              "      <th>Gr_Liv_Area</th>\n",
              "      <th>Half_Bath</th>\n",
              "      <th>Heating</th>\n",
              "      <th>Heating_QC</th>\n",
              "      <th>House_Style</th>\n",
              "      <th>Kitchen_AbvGr</th>\n",
              "      <th>Kitchen_Qual</th>\n",
              "      <th>Land_Contour</th>\n",
              "      <th>Land_Slope</th>\n",
              "      <th>Lot_Area</th>\n",
              "      <th>Lot_Config</th>\n",
              "      <th>Lot_Shape</th>\n",
              "      <th>MS_SubClass</th>\n",
              "      <th>MS_Zoning</th>\n",
              "      <th>Mas_Vnr_Type</th>\n",
              "      <th>Mo_Sold</th>\n",
              "      <th>Neighborhood</th>\n",
              "      <th>Overall_Cond</th>\n",
              "      <th>Overall_Qual</th>\n",
              "      <th>Paved_Drive</th>\n",
              "      <th>Roof_Matl</th>\n",
              "      <th>Roof_Style</th>\n",
              "      <th>SalePrice</th>\n",
              "      <th>Sale_Condition</th>\n",
              "      <th>Sale_Type</th>\n",
              "      <th>Street</th>\n",
              "      <th>TotRms_AbvGrd</th>\n",
              "      <th>Utilities</th>\n",
              "      <th>Year_Built</th>\n",
              "      <th>Year_Remod/Add</th>\n",
              "    </tr>\n",
              "    <tr>\n",
              "      <th>Yr_Sold</th>\n",
              "      <th></th>\n",
              "      <th></th>\n",
              "      <th></th>\n",
              "      <th></th>\n",
              "      <th></th>\n",
              "      <th></th>\n",
              "      <th></th>\n",
              "      <th></th>\n",
              "      <th></th>\n",
              "      <th></th>\n",
              "      <th></th>\n",
              "      <th></th>\n",
              "      <th></th>\n",
              "      <th></th>\n",
              "      <th></th>\n",
              "      <th></th>\n",
              "      <th></th>\n",
              "      <th></th>\n",
              "      <th></th>\n",
              "      <th></th>\n",
              "      <th></th>\n",
              "      <th></th>\n",
              "      <th></th>\n",
              "      <th></th>\n",
              "      <th></th>\n",
              "      <th></th>\n",
              "      <th></th>\n",
              "      <th></th>\n",
              "      <th></th>\n",
              "      <th></th>\n",
              "      <th></th>\n",
              "      <th></th>\n",
              "      <th></th>\n",
              "      <th></th>\n",
              "      <th></th>\n",
              "      <th></th>\n",
              "      <th></th>\n",
              "      <th></th>\n",
              "      <th></th>\n",
              "      <th></th>\n",
              "      <th></th>\n",
              "      <th></th>\n",
              "      <th></th>\n",
              "      <th></th>\n",
              "      <th></th>\n",
              "      <th></th>\n",
              "    </tr>\n",
              "  </thead>\n",
              "  <tbody>\n",
              "    <tr>\n",
              "      <th>2009-01-01</th>\n",
              "      <td>882</td>\n",
              "      <td>2</td>\n",
              "      <td>1Fam</td>\n",
              "      <td>0.0</td>\n",
              "      <td>0.0</td>\n",
              "      <td>Y</td>\n",
              "      <td>Norm</td>\n",
              "      <td>Norm</td>\n",
              "      <td>SBrkr</td>\n",
              "      <td>TA</td>\n",
              "      <td>TA</td>\n",
              "      <td>MetalSd</td>\n",
              "      <td>MetalSd</td>\n",
              "      <td>CBlock</td>\n",
              "      <td>1</td>\n",
              "      <td>Typ</td>\n",
              "      <td>882</td>\n",
              "      <td>0</td>\n",
              "      <td>GasA</td>\n",
              "      <td>TA</td>\n",
              "      <td>1Story</td>\n",
              "      <td>1</td>\n",
              "      <td>TA</td>\n",
              "      <td>Lvl</td>\n",
              "      <td>Gtl</td>\n",
              "      <td>13008</td>\n",
              "      <td>Inside</td>\n",
              "      <td>IR1</td>\n",
              "      <td>20</td>\n",
              "      <td>RL</td>\n",
              "      <td>None</td>\n",
              "      <td>10</td>\n",
              "      <td>NAmes</td>\n",
              "      <td>5</td>\n",
              "      <td>6</td>\n",
              "      <td>Y</td>\n",
              "      <td>CompShg</td>\n",
              "      <td>Gable</td>\n",
              "      <td>124500</td>\n",
              "      <td>Normal</td>\n",
              "      <td>WD</td>\n",
              "      <td>Pave</td>\n",
              "      <td>5</td>\n",
              "      <td>AllPub</td>\n",
              "      <td>1956</td>\n",
              "      <td>1956</td>\n",
              "    </tr>\n",
              "    <tr>\n",
              "      <th>2009-01-01</th>\n",
              "      <td>1434</td>\n",
              "      <td>4</td>\n",
              "      <td>1Fam</td>\n",
              "      <td>1.0</td>\n",
              "      <td>0.0</td>\n",
              "      <td>Y</td>\n",
              "      <td>Norm</td>\n",
              "      <td>Norm</td>\n",
              "      <td>SBrkr</td>\n",
              "      <td>TA</td>\n",
              "      <td>TA</td>\n",
              "      <td>Plywood</td>\n",
              "      <td>Plywood</td>\n",
              "      <td>CBlock</td>\n",
              "      <td>2</td>\n",
              "      <td>Typ</td>\n",
              "      <td>1434</td>\n",
              "      <td>0</td>\n",
              "      <td>GasA</td>\n",
              "      <td>TA</td>\n",
              "      <td>1Story</td>\n",
              "      <td>1</td>\n",
              "      <td>TA</td>\n",
              "      <td>Lvl</td>\n",
              "      <td>Gtl</td>\n",
              "      <td>10200</td>\n",
              "      <td>Inside</td>\n",
              "      <td>Reg</td>\n",
              "      <td>20</td>\n",
              "      <td>RL</td>\n",
              "      <td>BrkFace</td>\n",
              "      <td>6</td>\n",
              "      <td>NAmes</td>\n",
              "      <td>5</td>\n",
              "      <td>6</td>\n",
              "      <td>Y</td>\n",
              "      <td>CompShg</td>\n",
              "      <td>Hip</td>\n",
              "      <td>157000</td>\n",
              "      <td>Normal</td>\n",
              "      <td>WD</td>\n",
              "      <td>Pave</td>\n",
              "      <td>7</td>\n",
              "      <td>AllPub</td>\n",
              "      <td>1974</td>\n",
              "      <td>1974</td>\n",
              "    </tr>\n",
              "    <tr>\n",
              "      <th>2009-01-01</th>\n",
              "      <td>2000</td>\n",
              "      <td>4</td>\n",
              "      <td>1Fam</td>\n",
              "      <td>1.0</td>\n",
              "      <td>0.0</td>\n",
              "      <td>Y</td>\n",
              "      <td>Norm</td>\n",
              "      <td>Norm</td>\n",
              "      <td>SBrkr</td>\n",
              "      <td>TA</td>\n",
              "      <td>Gd</td>\n",
              "      <td>Plywood</td>\n",
              "      <td>Wd Sdng</td>\n",
              "      <td>CBlock</td>\n",
              "      <td>2</td>\n",
              "      <td>Typ</td>\n",
              "      <td>2704</td>\n",
              "      <td>1</td>\n",
              "      <td>GasA</td>\n",
              "      <td>Gd</td>\n",
              "      <td>SLvl</td>\n",
              "      <td>1</td>\n",
              "      <td>Ex</td>\n",
              "      <td>Lvl</td>\n",
              "      <td>Gtl</td>\n",
              "      <td>13860</td>\n",
              "      <td>Inside</td>\n",
              "      <td>Reg</td>\n",
              "      <td>80</td>\n",
              "      <td>RL</td>\n",
              "      <td>None</td>\n",
              "      <td>7</td>\n",
              "      <td>NAmes</td>\n",
              "      <td>7</td>\n",
              "      <td>8</td>\n",
              "      <td>Y</td>\n",
              "      <td>CompShg</td>\n",
              "      <td>Gable</td>\n",
              "      <td>345000</td>\n",
              "      <td>Normal</td>\n",
              "      <td>WD</td>\n",
              "      <td>Pave</td>\n",
              "      <td>9</td>\n",
              "      <td>AllPub</td>\n",
              "      <td>1972</td>\n",
              "      <td>1995</td>\n",
              "    </tr>\n",
              "    <tr>\n",
              "      <th>2009-01-01</th>\n",
              "      <td>945</td>\n",
              "      <td>3</td>\n",
              "      <td>1Fam</td>\n",
              "      <td>0.0</td>\n",
              "      <td>0.0</td>\n",
              "      <td>Y</td>\n",
              "      <td>Norm</td>\n",
              "      <td>Norm</td>\n",
              "      <td>SBrkr</td>\n",
              "      <td>TA</td>\n",
              "      <td>TA</td>\n",
              "      <td>VinylSd</td>\n",
              "      <td>VinylSd</td>\n",
              "      <td>PConc</td>\n",
              "      <td>2</td>\n",
              "      <td>Typ</td>\n",
              "      <td>1608</td>\n",
              "      <td>1</td>\n",
              "      <td>GasA</td>\n",
              "      <td>Ex</td>\n",
              "      <td>2Story</td>\n",
              "      <td>1</td>\n",
              "      <td>TA</td>\n",
              "      <td>Lvl</td>\n",
              "      <td>Gtl</td>\n",
              "      <td>10179</td>\n",
              "      <td>Corner</td>\n",
              "      <td>IR1</td>\n",
              "      <td>60</td>\n",
              "      <td>RL</td>\n",
              "      <td>None</td>\n",
              "      <td>7</td>\n",
              "      <td>Gilbert</td>\n",
              "      <td>5</td>\n",
              "      <td>6</td>\n",
              "      <td>Y</td>\n",
              "      <td>CompShg</td>\n",
              "      <td>Gable</td>\n",
              "      <td>189500</td>\n",
              "      <td>Normal</td>\n",
              "      <td>WD</td>\n",
              "      <td>Pave</td>\n",
              "      <td>7</td>\n",
              "      <td>AllPub</td>\n",
              "      <td>1997</td>\n",
              "      <td>1997</td>\n",
              "    </tr>\n",
              "    <tr>\n",
              "      <th>2009-01-01</th>\n",
              "      <td>1008</td>\n",
              "      <td>4</td>\n",
              "      <td>1Fam</td>\n",
              "      <td>0.0</td>\n",
              "      <td>0.0</td>\n",
              "      <td>Y</td>\n",
              "      <td>Norm</td>\n",
              "      <td>Norm</td>\n",
              "      <td>SBrkr</td>\n",
              "      <td>TA</td>\n",
              "      <td>Gd</td>\n",
              "      <td>VinylSd</td>\n",
              "      <td>VinylSd</td>\n",
              "      <td>PConc</td>\n",
              "      <td>2</td>\n",
              "      <td>Typ</td>\n",
              "      <td>2283</td>\n",
              "      <td>1</td>\n",
              "      <td>GasA</td>\n",
              "      <td>Ex</td>\n",
              "      <td>2Story</td>\n",
              "      <td>1</td>\n",
              "      <td>Gd</td>\n",
              "      <td>Lvl</td>\n",
              "      <td>Gtl</td>\n",
              "      <td>11792</td>\n",
              "      <td>Inside</td>\n",
              "      <td>IR1</td>\n",
              "      <td>60</td>\n",
              "      <td>RL</td>\n",
              "      <td>BrkFace</td>\n",
              "      <td>8</td>\n",
              "      <td>Gilbert</td>\n",
              "      <td>5</td>\n",
              "      <td>8</td>\n",
              "      <td>Y</td>\n",
              "      <td>CompShg</td>\n",
              "      <td>Gable</td>\n",
              "      <td>270000</td>\n",
              "      <td>Normal</td>\n",
              "      <td>WD</td>\n",
              "      <td>Pave</td>\n",
              "      <td>9</td>\n",
              "      <td>AllPub</td>\n",
              "      <td>2003</td>\n",
              "      <td>2003</td>\n",
              "    </tr>\n",
              "  </tbody>\n",
              "</table>\n",
              "</div>"
            ],
            "text/plain": [
              "            1st_Flr_SF  Bedroom_AbvGr  ... Year_Built  Year_Remod/Add\n",
              "Yr_Sold                                ...                           \n",
              "2009-01-01         882              2  ...       1956            1956\n",
              "2009-01-01        1434              4  ...       1974            1974\n",
              "2009-01-01        2000              4  ...       1972            1995\n",
              "2009-01-01         945              3  ...       1997            1997\n",
              "2009-01-01        1008              4  ...       2003            2003\n",
              "\n",
              "[5 rows x 46 columns]"
            ]
          },
          "metadata": {
            "tags": []
          },
          "execution_count": 2
        }
      ]
    },
    {
      "cell_type": "code",
      "metadata": {
        "colab": {
          "base_uri": "https://localhost:8080/"
        },
        "id": "j87KI2DayPKR",
        "outputId": "e44a910e-692d-4284-d001-8afc13f7645f"
      },
      "source": [
        "df.isna().sum().sum() # Check to ensure there are no NaNs"
      ],
      "execution_count": 4,
      "outputs": [
        {
          "output_type": "execute_result",
          "data": {
            "text/plain": [
              "0"
            ]
          },
          "metadata": {
            "tags": []
          },
          "execution_count": 4
        }
      ]
    },
    {
      "cell_type": "markdown",
      "metadata": {
        "deletable": false,
        "editable": false,
        "nbgrader": {
          "cell_type": "markdown",
          "checksum": "57df30990e0ac2245815c1522618652d",
          "grade": false,
          "grade_id": "cell-7681af23bef769bb",
          "locked": true,
          "schema_version": 3,
          "solution": false,
          "task": false
        },
        "id": "bM7ph25W0QiF"
      },
      "source": [
        "**Task 1 Testing**"
      ]
    },
    {
      "cell_type": "code",
      "metadata": {
        "deletable": false,
        "editable": false,
        "nbgrader": {
          "cell_type": "code",
          "checksum": "e374e5061d1a751df80d90f197d2b064",
          "grade": true,
          "grade_id": "cell-25880b9c025295c5",
          "locked": true,
          "points": 1,
          "schema_version": 3,
          "solution": false,
          "task": false
        },
        "id": "_y968lPN0QiF"
      },
      "source": [
        "'''T1 Testing.'''\n",
        "assert isinstance(df, pd.DataFrame), '`df` is not a DataFrame. Did you import the data?'\n",
        "assert len(df) == 2564, 'DataFrame `df` has the wrong number of rows.'\n",
        "assert isinstance(df.index, pd.DatetimeIndex), '`df` does not have a datetime index.'"
      ],
      "execution_count": 5,
      "outputs": []
    },
    {
      "cell_type": "markdown",
      "metadata": {
        "deletable": false,
        "editable": false,
        "nbgrader": {
          "cell_type": "markdown",
          "checksum": "0238173d96fa9190e6a2ee242499126a",
          "grade": false,
          "grade_id": "cell-81a7c3a23718bfd1",
          "locked": true,
          "schema_version": 3,
          "solution": false,
          "task": false
        },
        "id": "LCt_Twsf0QiF"
      },
      "source": [
        "**Task 2 (`stretch goal`):** Create a scatter plot that shows `'SalePrice'` as a function of `'Gr_Liv_Area'`. Be sure to label the axes of your plot."
      ]
    },
    {
      "cell_type": "code",
      "metadata": {
        "deletable": false,
        "nbgrader": {
          "cell_type": "code",
          "checksum": "894e735ac4bb5911d536ee8852c2111f",
          "grade": false,
          "grade_id": "cell-8ee63eed57f965ea",
          "locked": false,
          "schema_version": 3,
          "solution": true,
          "task": false
        },
        "colab": {
          "base_uri": "https://localhost:8080/",
          "height": 404
        },
        "id": "aLfXhLlW0QiG",
        "outputId": "e5cfb0d7-b69c-4e7e-9a01-a00010f5118d"
      },
      "source": [
        "import matplotlib.pyplot as plt\n",
        "\n",
        "# YOUR CODE HERE\n",
        "plt.figure(figsize=[6, 6]) # Set the size of the scatterplot\n",
        "\n",
        "plt.scatter(x = df['Gr_Liv_Area'], y = df['SalePrice']) # Create scatterplot showing relationship between Gross Living Area and the Sale Price of the Houses Sold\n",
        "plt.xlabel('Gross Living Area (Sq. Feet)') # Set the x-axis label\n",
        "plt.ylabel('Sale Price ($ USD)') # Set the y-axis label\n",
        "plt.title('Sale Price and Gross Living Area of Houses Sold') # Set the chart title\n",
        "plt.show()"
      ],
      "execution_count": 6,
      "outputs": [
        {
          "output_type": "display_data",
          "data": {
            "image/png": "[encoded data removed]",
            "text/plain": [
              "<Figure size 432x432 with 1 Axes>"
            ]
          },
          "metadata": {
            "tags": [],
            "needs_background": "light"
          }
        }
      ]
    },
    {
      "cell_type": "markdown",
      "metadata": {
        "deletable": false,
        "editable": false,
        "nbgrader": {
          "cell_type": "markdown",
          "checksum": "8c8dd11e8a0388b018d59e6aca553ab6",
          "grade": false,
          "grade_id": "cell-17226b293bcb9e54",
          "locked": true,
          "schema_version": 3,
          "solution": false,
          "task": false
        },
        "id": "CgxKYZvV0QiG"
      },
      "source": [
        "## II. Split Data\n",
        "\n",
        "**Task 3:** Since you're building a model to predict the price at which a house will be sold, your target is the `'SalePrice'` column. Split the DataFrame `df` into the target vector `y` and the feature matrix `X`. "
      ]
    },
    {
      "cell_type": "code",
      "metadata": {
        "deletable": false,
        "nbgrader": {
          "cell_type": "code",
          "checksum": "9a2ebca053c8701207fd5db749e36d0a",
          "grade": false,
          "grade_id": "cell-4207f17d2e629cbd",
          "locked": false,
          "schema_version": 3,
          "solution": true,
          "task": false
        },
        "id": "ISM-mCO10QiG"
      },
      "source": [
        "'''T3: Split `df` into `X` and `y`.'''\n",
        "\n",
        "target = 'SalePrice'\n",
        "# YOUR CODE HERE\n",
        "features = ['1st_Flr_SF', 'Bedroom_AbvGr', 'Bldg_Type', 'Bsmt_Full_Bath',\t\n",
        "            'Bsmt_Half_Bath',\t'Central_Air', 'Condition_1', 'Condition_2',\n",
        "            'Electrical',\t'Exter_Cond',\t'Exter_Qual',\t'Exterior_1st',\n",
        "            'Exterior_2nd',\t'Foundation',\t'Full_Bath',\t'Functional',\n",
        "            'Gr_Liv_Area',\t'Half_Bath',\t'Heating',\t'Heating_QC',\t'House_Style',\n",
        "            'Kitchen_AbvGr',\t'Kitchen_Qual',\t'Land_Contour',\t'Land_Slope',\n",
        "            'Lot_Area',\t'Lot_Config',\t'Lot_Shape',\t'MS_SubClass',\t'MS_Zoning',\n",
        "            'Mas_Vnr_Type',\t'Mo_Sold',\t'Neighborhood',\t'Overall_Cond',\n",
        "            'Overall_Qual',\t'Paved_Drive',\t'Roof_Matl',\t'Roof_Style',\n",
        "            'Sale_Condition',\t'Sale_Type',\t'Street',\t'TotRms_AbvGrd',\n",
        "            'Utilities',\t'Year_Built',\t'Year_Remod/Add'] # Set up all columns as features (except Target column and Index)\n",
        "X = df[features]\n",
        "y = df[target]"
      ],
      "execution_count": 7,
      "outputs": []
    },
    {
      "cell_type": "markdown",
      "metadata": {
        "deletable": false,
        "editable": false,
        "nbgrader": {
          "cell_type": "markdown",
          "checksum": "0eaf400e2a187b0a44d22c5f94573e8a",
          "grade": false,
          "grade_id": "cell-2f0e0292ea6ebc3b",
          "locked": true,
          "schema_version": 3,
          "solution": false,
          "task": false
        },
        "id": "bo1C_-bm0QiH"
      },
      "source": [
        "**Task 3 Testing**"
      ]
    },
    {
      "cell_type": "code",
      "metadata": {
        "deletable": false,
        "editable": false,
        "nbgrader": {
          "cell_type": "code",
          "checksum": "37e8cadf75dc3ed7257d278154912f99",
          "grade": true,
          "grade_id": "cell-7e83bdb6a35f2699",
          "locked": true,
          "points": 1,
          "schema_version": 3,
          "solution": false,
          "task": false
        },
        "id": "-xLFQZ7a0QiH"
      },
      "source": [
        "'''T3 Tests'''\n",
        "assert y.shape == (2564,), '`y` either has the wrong number of rows, or is two-dimentional.'\n",
        "assert X.shape == (2564, 45), '`X` has the wrong number of columns or rows.'\n",
        "assert 'SalePrice' not in X.columns, 'Target is still part of feature matrix.' "
      ],
      "execution_count": 8,
      "outputs": []
    },
    {
      "cell_type": "markdown",
      "metadata": {
        "deletable": false,
        "editable": false,
        "nbgrader": {
          "cell_type": "markdown",
          "checksum": "6309faf4b0395b7305ae23a65cadd4ee",
          "grade": false,
          "grade_id": "cell-708c2f8aa9bebfa1",
          "locked": true,
          "schema_version": 3,
          "solution": false,
          "task": false
        },
        "id": "34p0Bwoe0QiH"
      },
      "source": [
        "**Task 4:** Split `X` and `y` into training, validation, and test sets. Since housing prices fluctuate over time, you should use the time-based cutoff method. \n",
        "\n",
        "- Training: Homes sold before 2009\n",
        "- Validation: Homes sold during 2009"
      ]
    },
    {
      "cell_type": "code",
      "metadata": {
        "deletable": false,
        "nbgrader": {
          "cell_type": "code",
          "checksum": "11d8d6d6ef1622e19b0e405523389c0e",
          "grade": false,
          "grade_id": "cell-2efa29975d55a10c",
          "locked": false,
          "schema_version": 3,
          "solution": true,
          "task": false
        },
        "id": "Vcy8PMd90QiH"
      },
      "source": [
        "'''T4: Split `X` and `y` into training, validation, and testing sets.'''\n",
        "\n",
        "# YOUR CODE HERE\n",
        "cutoff = '2009-01-01'\n",
        "X_train = X[X.index < cutoff]\n",
        "y_train = y[y.index < cutoff]\n",
        "X_val = X[X.index >= cutoff]\n",
        "y_val = y[y.index >= cutoff]"
      ],
      "execution_count": 9,
      "outputs": []
    },
    {
      "cell_type": "markdown",
      "metadata": {
        "deletable": false,
        "editable": false,
        "nbgrader": {
          "cell_type": "markdown",
          "checksum": "47db7906e0f22fc02ec2827ee582f60d",
          "grade": false,
          "grade_id": "cell-bef5af92ef24c478",
          "locked": true,
          "schema_version": 3,
          "solution": false,
          "task": false
        },
        "id": "mDb6GR3R0QiI"
      },
      "source": [
        "**Task 4 Testing**"
      ]
    },
    {
      "cell_type": "code",
      "metadata": {
        "deletable": false,
        "editable": false,
        "nbgrader": {
          "cell_type": "code",
          "checksum": "df87bc0b203410d307eb9773fdbc113d",
          "grade": true,
          "grade_id": "cell-458101f90b6b100b",
          "locked": true,
          "points": 1,
          "schema_version": 3,
          "solution": false,
          "task": false
        },
        "id": "WiWLJmZU0QiI"
      },
      "source": [
        "'''T4 Tests'''\n",
        "assert len(X_train) == len(y_train) == 1920, 'Your training set has the wrong number of rows.'\n",
        "assert len(X_val) == len(y_val) == 644, 'Your validation set has the wrong number of rows.'"
      ],
      "execution_count": 10,
      "outputs": []
    },
    {
      "cell_type": "markdown",
      "metadata": {
        "deletable": false,
        "editable": false,
        "nbgrader": {
          "cell_type": "markdown",
          "checksum": "d6a8d57a5e0f00b03dcc7127d385fef3",
          "grade": false,
          "grade_id": "cell-63da195f83201124",
          "locked": true,
          "schema_version": 3,
          "solution": false,
          "task": false
        },
        "id": "42Dq5ZMq0QiI"
      },
      "source": [
        "## III. Set Baseline\n",
        "\n",
        "**Task 5:** Before you can create a model to predict sale price, you need to establish a baseline. First, calculate the mean housing price for your training set. Next, calculate the *mean absolute error* for a model that always predicts that mean. Be sure to assign the mean absolute error to a variable named `baseline_mae`."
      ]
    },
    {
      "cell_type": "code",
      "metadata": {
        "deletable": false,
        "nbgrader": {
          "cell_type": "code",
          "checksum": "6bd6e555eb003bc08b8ff2ef2f8bc087",
          "grade": false,
          "grade_id": "cell-62dc6e7707644a97",
          "locked": false,
          "schema_version": 3,
          "solution": true,
          "task": false
        },
        "colab": {
          "base_uri": "https://localhost:8080/"
        },
        "id": "hdMY6QWc0QiI",
        "outputId": "00625fd9-e577-48ba-8fed-ce6b74621542"
      },
      "source": [
        "'''T5: Calculate baseline mean absolute error.'''\n",
        "from sklearn.metrics import mean_absolute_error\n",
        "\n",
        "# YOUR CODE HERE\n",
        "y_guess = y_train.mean()\n",
        "y_mean = [y_guess] * len(y_train)\n",
        "baseline_mae = mean_absolute_error(y_train, y_mean)\n",
        "print('Baseline MAE:', baseline_mae)"
      ],
      "execution_count": 11,
      "outputs": [
        {
          "output_type": "stream",
          "text": [
            "Baseline MAE: 58502.9394639757\n"
          ],
          "name": "stdout"
        }
      ]
    },
    {
      "cell_type": "markdown",
      "metadata": {
        "deletable": false,
        "editable": false,
        "nbgrader": {
          "cell_type": "markdown",
          "checksum": "89a1eda38ecc3c38f2f7b5ec42a9be9f",
          "grade": false,
          "grade_id": "cell-c76f1e15a9f7093f",
          "locked": true,
          "schema_version": 3,
          "solution": false,
          "task": false
        },
        "id": "65GElfxL0QiJ"
      },
      "source": [
        "**Task 5 Testing**"
      ]
    },
    {
      "cell_type": "code",
      "metadata": {
        "deletable": false,
        "editable": false,
        "nbgrader": {
          "cell_type": "code",
          "checksum": "cbb7bc74c0aa899f6bc9745f7947d37a",
          "grade": true,
          "grade_id": "cell-cfcf0f63baa004f9",
          "locked": true,
          "points": 1,
          "schema_version": 3,
          "solution": false,
          "task": false
        },
        "id": "T3P6OHmt0QiJ"
      },
      "source": [
        "'''T5 Tests'''\n",
        "assert isinstance(baseline_mae, float), '`baseline_mae` is not a `float`. Have you assigned a value to this variable name?'"
      ],
      "execution_count": 12,
      "outputs": []
    },
    {
      "cell_type": "code",
      "metadata": {
        "colab": {
          "base_uri": "https://localhost:8080/",
          "height": 317
        },
        "id": "xlOBpsvguTID",
        "outputId": "034f594e-bf3e-43d4-c4fc-d64a6908a093"
      },
      "source": [
        "df.describe()"
      ],
      "execution_count": 13,
      "outputs": [
        {
          "output_type": "execute_result",
          "data": {
            "text/html": [
              "<div>\n",
              "<style scoped>\n",
              "    .dataframe tbody tr th:only-of-type {\n",
              "        vertical-align: middle;\n",
              "    }\n",
              "\n",
              "    .dataframe tbody tr th {\n",
              "        vertical-align: top;\n",
              "    }\n",
              "\n",
              "    .dataframe thead th {\n",
              "        text-align: right;\n",
              "    }\n",
              "</style>\n",
              "<table border=\"1\" class=\"dataframe\">\n",
              "  <thead>\n",
              "    <tr style=\"text-align: right;\">\n",
              "      <th></th>\n",
              "      <th>1st_Flr_SF</th>\n",
              "      <th>Bedroom_AbvGr</th>\n",
              "      <th>Bsmt_Full_Bath</th>\n",
              "      <th>Bsmt_Half_Bath</th>\n",
              "      <th>Full_Bath</th>\n",
              "      <th>Gr_Liv_Area</th>\n",
              "      <th>Half_Bath</th>\n",
              "      <th>Kitchen_AbvGr</th>\n",
              "      <th>Lot_Area</th>\n",
              "      <th>MS_SubClass</th>\n",
              "      <th>Mo_Sold</th>\n",
              "      <th>Overall_Cond</th>\n",
              "      <th>Overall_Qual</th>\n",
              "      <th>SalePrice</th>\n",
              "      <th>TotRms_AbvGrd</th>\n",
              "      <th>Year_Built</th>\n",
              "      <th>Year_Remod/Add</th>\n",
              "    </tr>\n",
              "  </thead>\n",
              "  <tbody>\n",
              "    <tr>\n",
              "      <th>count</th>\n",
              "      <td>2564.000000</td>\n",
              "      <td>2564.000000</td>\n",
              "      <td>2564.000000</td>\n",
              "      <td>2564.000000</td>\n",
              "      <td>2564.000000</td>\n",
              "      <td>2564.000000</td>\n",
              "      <td>2564.000000</td>\n",
              "      <td>2564.000000</td>\n",
              "      <td>2564.000000</td>\n",
              "      <td>2564.000000</td>\n",
              "      <td>2564.000000</td>\n",
              "      <td>2564.000000</td>\n",
              "      <td>2564.000000</td>\n",
              "      <td>2564.000000</td>\n",
              "      <td>2564.000000</td>\n",
              "      <td>2564.000000</td>\n",
              "      <td>2564.000000</td>\n",
              "    </tr>\n",
              "    <tr>\n",
              "      <th>mean</th>\n",
              "      <td>1161.531981</td>\n",
              "      <td>2.858034</td>\n",
              "      <td>0.425897</td>\n",
              "      <td>0.063963</td>\n",
              "      <td>1.567473</td>\n",
              "      <td>1503.733229</td>\n",
              "      <td>0.376755</td>\n",
              "      <td>1.042902</td>\n",
              "      <td>10181.487910</td>\n",
              "      <td>57.264041</td>\n",
              "      <td>6.465289</td>\n",
              "      <td>5.565523</td>\n",
              "      <td>6.107644</td>\n",
              "      <td>181433.289392</td>\n",
              "      <td>6.455538</td>\n",
              "      <td>1971.328003</td>\n",
              "      <td>1984.138846</td>\n",
              "    </tr>\n",
              "    <tr>\n",
              "      <th>std</th>\n",
              "      <td>390.569956</td>\n",
              "      <td>0.826862</td>\n",
              "      <td>0.525183</td>\n",
              "      <td>0.251030</td>\n",
              "      <td>0.550007</td>\n",
              "      <td>509.259173</td>\n",
              "      <td>0.501288</td>\n",
              "      <td>0.212082</td>\n",
              "      <td>8144.661487</td>\n",
              "      <td>42.366737</td>\n",
              "      <td>2.726434</td>\n",
              "      <td>1.104736</td>\n",
              "      <td>1.417836</td>\n",
              "      <td>80410.055316</td>\n",
              "      <td>1.564572</td>\n",
              "      <td>30.277615</td>\n",
              "      <td>20.868058</td>\n",
              "    </tr>\n",
              "    <tr>\n",
              "      <th>min</th>\n",
              "      <td>334.000000</td>\n",
              "      <td>0.000000</td>\n",
              "      <td>0.000000</td>\n",
              "      <td>0.000000</td>\n",
              "      <td>0.000000</td>\n",
              "      <td>334.000000</td>\n",
              "      <td>0.000000</td>\n",
              "      <td>0.000000</td>\n",
              "      <td>1300.000000</td>\n",
              "      <td>20.000000</td>\n",
              "      <td>1.000000</td>\n",
              "      <td>1.000000</td>\n",
              "      <td>1.000000</td>\n",
              "      <td>13100.000000</td>\n",
              "      <td>2.000000</td>\n",
              "      <td>1872.000000</td>\n",
              "      <td>1950.000000</td>\n",
              "    </tr>\n",
              "    <tr>\n",
              "      <th>25%</th>\n",
              "      <td>880.000000</td>\n",
              "      <td>2.000000</td>\n",
              "      <td>0.000000</td>\n",
              "      <td>0.000000</td>\n",
              "      <td>1.000000</td>\n",
              "      <td>1128.000000</td>\n",
              "      <td>0.000000</td>\n",
              "      <td>1.000000</td>\n",
              "      <td>7433.250000</td>\n",
              "      <td>20.000000</td>\n",
              "      <td>5.000000</td>\n",
              "      <td>5.000000</td>\n",
              "      <td>5.000000</td>\n",
              "      <td>129887.500000</td>\n",
              "      <td>5.000000</td>\n",
              "      <td>1953.000000</td>\n",
              "      <td>1965.000000</td>\n",
              "    </tr>\n",
              "    <tr>\n",
              "      <th>50%</th>\n",
              "      <td>1088.000000</td>\n",
              "      <td>3.000000</td>\n",
              "      <td>0.000000</td>\n",
              "      <td>0.000000</td>\n",
              "      <td>2.000000</td>\n",
              "      <td>1445.500000</td>\n",
              "      <td>0.000000</td>\n",
              "      <td>1.000000</td>\n",
              "      <td>9429.000000</td>\n",
              "      <td>50.000000</td>\n",
              "      <td>6.000000</td>\n",
              "      <td>5.000000</td>\n",
              "      <td>6.000000</td>\n",
              "      <td>160350.000000</td>\n",
              "      <td>6.000000</td>\n",
              "      <td>1973.000000</td>\n",
              "      <td>1993.000000</td>\n",
              "    </tr>\n",
              "    <tr>\n",
              "      <th>75%</th>\n",
              "      <td>1390.000000</td>\n",
              "      <td>3.000000</td>\n",
              "      <td>1.000000</td>\n",
              "      <td>0.000000</td>\n",
              "      <td>2.000000</td>\n",
              "      <td>1749.250000</td>\n",
              "      <td>1.000000</td>\n",
              "      <td>1.000000</td>\n",
              "      <td>11577.250000</td>\n",
              "      <td>70.000000</td>\n",
              "      <td>8.000000</td>\n",
              "      <td>6.000000</td>\n",
              "      <td>7.000000</td>\n",
              "      <td>214000.000000</td>\n",
              "      <td>7.000000</td>\n",
              "      <td>2001.000000</td>\n",
              "      <td>2004.000000</td>\n",
              "    </tr>\n",
              "    <tr>\n",
              "      <th>max</th>\n",
              "      <td>5095.000000</td>\n",
              "      <td>8.000000</td>\n",
              "      <td>3.000000</td>\n",
              "      <td>2.000000</td>\n",
              "      <td>4.000000</td>\n",
              "      <td>5642.000000</td>\n",
              "      <td>2.000000</td>\n",
              "      <td>3.000000</td>\n",
              "      <td>215245.000000</td>\n",
              "      <td>190.000000</td>\n",
              "      <td>12.000000</td>\n",
              "      <td>9.000000</td>\n",
              "      <td>10.000000</td>\n",
              "      <td>755000.000000</td>\n",
              "      <td>15.000000</td>\n",
              "      <td>2009.000000</td>\n",
              "      <td>2009.000000</td>\n",
              "    </tr>\n",
              "  </tbody>\n",
              "</table>\n",
              "</div>"
            ],
            "text/plain": [
              "        1st_Flr_SF  Bedroom_AbvGr  ...   Year_Built  Year_Remod/Add\n",
              "count  2564.000000    2564.000000  ...  2564.000000     2564.000000\n",
              "mean   1161.531981       2.858034  ...  1971.328003     1984.138846\n",
              "std     390.569956       0.826862  ...    30.277615       20.868058\n",
              "min     334.000000       0.000000  ...  1872.000000     1950.000000\n",
              "25%     880.000000       2.000000  ...  1953.000000     1965.000000\n",
              "50%    1088.000000       3.000000  ...  1973.000000     1993.000000\n",
              "75%    1390.000000       3.000000  ...  2001.000000     2004.000000\n",
              "max    5095.000000       8.000000  ...  2009.000000     2009.000000\n",
              "\n",
              "[8 rows x 17 columns]"
            ]
          },
          "metadata": {
            "tags": []
          },
          "execution_count": 13
        }
      ]
    },
    {
      "cell_type": "code",
      "metadata": {
        "colab": {
          "base_uri": "https://localhost:8080/",
          "height": 193
        },
        "id": "ewwmlJm7zAmn",
        "outputId": "4ed0025d-fa7d-46da-d9fc-321cf9f8716f"
      },
      "source": [
        "df.describe(exclude='number')"
      ],
      "execution_count": 14,
      "outputs": [
        {
          "output_type": "execute_result",
          "data": {
            "text/html": [
              "<div>\n",
              "<style scoped>\n",
              "    .dataframe tbody tr th:only-of-type {\n",
              "        vertical-align: middle;\n",
              "    }\n",
              "\n",
              "    .dataframe tbody tr th {\n",
              "        vertical-align: top;\n",
              "    }\n",
              "\n",
              "    .dataframe thead th {\n",
              "        text-align: right;\n",
              "    }\n",
              "</style>\n",
              "<table border=\"1\" class=\"dataframe\">\n",
              "  <thead>\n",
              "    <tr style=\"text-align: right;\">\n",
              "      <th></th>\n",
              "      <th>Bldg_Type</th>\n",
              "      <th>Central_Air</th>\n",
              "      <th>Condition_1</th>\n",
              "      <th>Condition_2</th>\n",
              "      <th>Electrical</th>\n",
              "      <th>Exter_Cond</th>\n",
              "      <th>Exter_Qual</th>\n",
              "      <th>Exterior_1st</th>\n",
              "      <th>Exterior_2nd</th>\n",
              "      <th>Foundation</th>\n",
              "      <th>Functional</th>\n",
              "      <th>Heating</th>\n",
              "      <th>Heating_QC</th>\n",
              "      <th>House_Style</th>\n",
              "      <th>Kitchen_Qual</th>\n",
              "      <th>Land_Contour</th>\n",
              "      <th>Land_Slope</th>\n",
              "      <th>Lot_Config</th>\n",
              "      <th>Lot_Shape</th>\n",
              "      <th>MS_Zoning</th>\n",
              "      <th>Mas_Vnr_Type</th>\n",
              "      <th>Neighborhood</th>\n",
              "      <th>Paved_Drive</th>\n",
              "      <th>Roof_Matl</th>\n",
              "      <th>Roof_Style</th>\n",
              "      <th>Sale_Condition</th>\n",
              "      <th>Sale_Type</th>\n",
              "      <th>Street</th>\n",
              "      <th>Utilities</th>\n",
              "    </tr>\n",
              "  </thead>\n",
              "  <tbody>\n",
              "    <tr>\n",
              "      <th>count</th>\n",
              "      <td>2564</td>\n",
              "      <td>2564</td>\n",
              "      <td>2564</td>\n",
              "      <td>2564</td>\n",
              "      <td>2564</td>\n",
              "      <td>2564</td>\n",
              "      <td>2564</td>\n",
              "      <td>2564</td>\n",
              "      <td>2564</td>\n",
              "      <td>2564</td>\n",
              "      <td>2564</td>\n",
              "      <td>2564</td>\n",
              "      <td>2564</td>\n",
              "      <td>2564</td>\n",
              "      <td>2564</td>\n",
              "      <td>2564</td>\n",
              "      <td>2564</td>\n",
              "      <td>2564</td>\n",
              "      <td>2564</td>\n",
              "      <td>2564</td>\n",
              "      <td>2564</td>\n",
              "      <td>2564</td>\n",
              "      <td>2564</td>\n",
              "      <td>2564</td>\n",
              "      <td>2564</td>\n",
              "      <td>2564</td>\n",
              "      <td>2564</td>\n",
              "      <td>2564</td>\n",
              "      <td>2564</td>\n",
              "    </tr>\n",
              "    <tr>\n",
              "      <th>unique</th>\n",
              "      <td>5</td>\n",
              "      <td>2</td>\n",
              "      <td>9</td>\n",
              "      <td>8</td>\n",
              "      <td>5</td>\n",
              "      <td>5</td>\n",
              "      <td>4</td>\n",
              "      <td>16</td>\n",
              "      <td>17</td>\n",
              "      <td>6</td>\n",
              "      <td>8</td>\n",
              "      <td>6</td>\n",
              "      <td>5</td>\n",
              "      <td>8</td>\n",
              "      <td>4</td>\n",
              "      <td>4</td>\n",
              "      <td>3</td>\n",
              "      <td>5</td>\n",
              "      <td>4</td>\n",
              "      <td>7</td>\n",
              "      <td>5</td>\n",
              "      <td>28</td>\n",
              "      <td>3</td>\n",
              "      <td>8</td>\n",
              "      <td>6</td>\n",
              "      <td>6</td>\n",
              "      <td>10</td>\n",
              "      <td>2</td>\n",
              "      <td>3</td>\n",
              "    </tr>\n",
              "    <tr>\n",
              "      <th>top</th>\n",
              "      <td>1Fam</td>\n",
              "      <td>Y</td>\n",
              "      <td>Norm</td>\n",
              "      <td>Norm</td>\n",
              "      <td>SBrkr</td>\n",
              "      <td>TA</td>\n",
              "      <td>TA</td>\n",
              "      <td>VinylSd</td>\n",
              "      <td>VinylSd</td>\n",
              "      <td>PConc</td>\n",
              "      <td>Typ</td>\n",
              "      <td>GasA</td>\n",
              "      <td>Ex</td>\n",
              "      <td>1Story</td>\n",
              "      <td>TA</td>\n",
              "      <td>Lvl</td>\n",
              "      <td>Gtl</td>\n",
              "      <td>Inside</td>\n",
              "      <td>Reg</td>\n",
              "      <td>RL</td>\n",
              "      <td>None</td>\n",
              "      <td>NAmes</td>\n",
              "      <td>Y</td>\n",
              "      <td>CompShg</td>\n",
              "      <td>Gable</td>\n",
              "      <td>Normal</td>\n",
              "      <td>WD</td>\n",
              "      <td>Pave</td>\n",
              "      <td>AllPub</td>\n",
              "    </tr>\n",
              "    <tr>\n",
              "      <th>freq</th>\n",
              "      <td>2130</td>\n",
              "      <td>2394</td>\n",
              "      <td>2209</td>\n",
              "      <td>2536</td>\n",
              "      <td>2340</td>\n",
              "      <td>2243</td>\n",
              "      <td>1574</td>\n",
              "      <td>897</td>\n",
              "      <td>889</td>\n",
              "      <td>1149</td>\n",
              "      <td>2385</td>\n",
              "      <td>2523</td>\n",
              "      <td>1309</td>\n",
              "      <td>1289</td>\n",
              "      <td>1315</td>\n",
              "      <td>2298</td>\n",
              "      <td>2446</td>\n",
              "      <td>1883</td>\n",
              "      <td>1617</td>\n",
              "      <td>2003</td>\n",
              "      <td>1530</td>\n",
              "      <td>385</td>\n",
              "      <td>2320</td>\n",
              "      <td>2525</td>\n",
              "      <td>2022</td>\n",
              "      <td>2100</td>\n",
              "      <td>2218</td>\n",
              "      <td>2555</td>\n",
              "      <td>2561</td>\n",
              "    </tr>\n",
              "  </tbody>\n",
              "</table>\n",
              "</div>"
            ],
            "text/plain": [
              "       Bldg_Type Central_Air Condition_1  ... Sale_Type Street Utilities\n",
              "count       2564        2564        2564  ...      2564   2564      2564\n",
              "unique         5           2           9  ...        10      2         3\n",
              "top         1Fam           Y        Norm  ...       WD    Pave    AllPub\n",
              "freq        2130        2394        2209  ...      2218   2555      2561\n",
              "\n",
              "[4 rows x 29 columns]"
            ]
          },
          "metadata": {
            "tags": []
          },
          "execution_count": 14
        }
      ]
    },
    {
      "cell_type": "markdown",
      "metadata": {
        "deletable": false,
        "editable": false,
        "nbgrader": {
          "cell_type": "markdown",
          "checksum": "07eabd28839601f0c7a2f98893681016",
          "grade": false,
          "grade_id": "cell-63b7627f91c1e767",
          "locked": true,
          "schema_version": 3,
          "solution": false,
          "task": false
        },
        "id": "a_oV-Pct0QiJ"
      },
      "source": [
        "## IV. Build Models\n",
        "\n",
        "**Task 6:** Build and train a linear regression model named `model_lr` that predicts home sale price. Your model should have the following components:\n",
        "\n",
        "- A `OneHotEncoder` for categorical features.\n",
        "- A `StandardScaler` so that you can compare your model coefficients after training.\n",
        "- A `pipeline` that combines transformers and predictor.\n",
        "\n",
        "**Tip:** For your `OneHotEncoder`, `use_cat_names` should be set to `True`."
      ]
    },
    {
      "cell_type": "code",
      "metadata": {
        "deletable": false,
        "nbgrader": {
          "cell_type": "code",
          "checksum": "3236c609a2729c303682be55af187cb2",
          "grade": false,
          "grade_id": "cell-b80a918d2acd5e24",
          "locked": false,
          "schema_version": 3,
          "solution": true,
          "task": false
        },
        "colab": {
          "base_uri": "https://localhost:8080/"
        },
        "id": "hQMm3gui0QiJ",
        "outputId": "8247d79e-616d-406b-870f-afaf69374d8f"
      },
      "source": [
        "'''T6: Build and train LinearRegression model.'''\n",
        "from sklearn.pipeline import make_pipeline\n",
        "from sklearn.linear_model import LinearRegression\n",
        "from category_encoders import OneHotEncoder\n",
        "from sklearn.preprocessing import StandardScaler\n",
        "\n",
        "# YOUR CODE HERE\n",
        "features_1 = ['1st_Flr_SF', 'Bedroom_AbvGr', 'Bldg_Type', 'Bsmt_Full_Bath',\t\n",
        "            'Bsmt_Half_Bath',\t'Central_Air', 'Full_Bath',\t'Gr_Liv_Area',\t\n",
        "            'Half_Bath', 'House_Style', 'Kitchen_AbvGr',\t'Kitchen_Qual',\t\n",
        "            'Lot_Area',\t'MS_SubClass',\t'MS_Zoning', 'Mo_Sold',\t'Overall_Cond',\n",
        "            'Overall_Qual',\t'Paved_Drive', 'Sale_Condition',\t'TotRms_AbvGrd',\n",
        "            'Year_Built',\t'Year_Remod/Add'] # Set up all potentially relevant columns as features (except high-cardinality, target, and Index columns)\n",
        "X = df[features_1]\n",
        "X_train = X[X.index < cutoff]\n",
        "X_val = X[X.index >= cutoff]\n",
        "\n",
        "# Create Pipeline using OneHotEncoder and StandardScaler as transformers and Linear Regression as predictor\n",
        "model_lr = make_pipeline(\n",
        "    OneHotEncoder(use_cat_names = True),\n",
        "    StandardScaler(),\n",
        "    LinearRegression()\n",
        ")\n",
        "model_lr.fit(X_train, y_train);"
      ],
      "execution_count": 15,
      "outputs": [
        {
          "output_type": "stream",
          "text": [
            "/usr/local/lib/python3.7/dist-packages/statsmodels/tools/_testing.py:19: FutureWarning: pandas.util.testing is deprecated. Use the functions in the public API at pandas.testing instead.\n",
            "  import pandas.util.testing as tm\n",
            "/usr/local/lib/python3.7/dist-packages/category_encoders/utils.py:21: FutureWarning: is_categorical is deprecated and will be removed in a future version.  Use is_categorical_dtype instead\n",
            "  elif pd.api.types.is_categorical(cols):\n"
          ],
          "name": "stderr"
        }
      ]
    },
    {
      "cell_type": "markdown",
      "metadata": {
        "deletable": false,
        "editable": false,
        "nbgrader": {
          "cell_type": "markdown",
          "checksum": "338030033710797cd30babb94a6754df",
          "grade": false,
          "grade_id": "cell-b11e913f60dd1a4f",
          "locked": true,
          "schema_version": 3,
          "solution": false,
          "task": false
        },
        "id": "WGXvEH-Y0QiK"
      },
      "source": [
        "**Task 6 Testing**"
      ]
    },
    {
      "cell_type": "code",
      "metadata": {
        "deletable": false,
        "editable": false,
        "nbgrader": {
          "cell_type": "code",
          "checksum": "468f711478be292802bc195e53341b4e",
          "grade": true,
          "grade_id": "cell-066938e1bd64a34c",
          "locked": true,
          "points": 1,
          "schema_version": 3,
          "solution": false,
          "task": false
        },
        "id": "a_8fFT3j0QiK"
      },
      "source": [
        "'''T6 Tests'''\n",
        "from sklearn.pipeline import Pipeline\n",
        "assert isinstance(model_lr, Pipeline), '`model_lr` is not a pipeline.'\n",
        "assert len(model_lr.named_steps) > 1, 'Your `model_lr` pipeline is missing components.'"
      ],
      "execution_count": 16,
      "outputs": []
    },
    {
      "cell_type": "markdown",
      "metadata": {
        "deletable": false,
        "editable": false,
        "nbgrader": {
          "cell_type": "markdown",
          "checksum": "7a6a411b3833aaf17296afc3f2c6f29c",
          "grade": false,
          "grade_id": "cell-6a4782a94cdea347",
          "locked": true,
          "schema_version": 3,
          "solution": false,
          "task": false
        },
        "id": "Wubz6tFz0QiK"
      },
      "source": [
        "**Task 7:** Build and train a ridge regression model named `model_r` that predicts home sales price. Your model should include the following components:\n",
        "\n",
        "- A `OneHotEncoder` for categorical features.\n",
        "- A `StandardScaler` so that you can compare your model coefficients after training.\n",
        "- A `pipeline` that combines transformers and predictor.\n",
        "\n",
        "**Tip:** If you combine a `StandardScaler` transformer with a `Ridge` predictor, you should set the `normalize` argument for the latter to `False`."
      ]
    },
    {
      "cell_type": "code",
      "metadata": {
        "deletable": false,
        "nbgrader": {
          "cell_type": "code",
          "checksum": "46bcd5b6c64f4a1ae928ef1acd3b9de9",
          "grade": false,
          "grade_id": "cell-02455b6368014e2e",
          "locked": false,
          "schema_version": 3,
          "solution": true,
          "task": false
        },
        "colab": {
          "base_uri": "https://localhost:8080/"
        },
        "id": "MeIivjN10QiK",
        "outputId": "a717e5d6-aa02-4888-eff7-f2518831444d"
      },
      "source": [
        "'''T7. Build and train Ridge model.'''\n",
        "from sklearn.linear_model import Ridge\n",
        "\n",
        "# YOUR CODE HERE\n",
        "# Create Pipeline using OneHotEncoder and StandardScaler as transformers and Ridge Regression as predictor\n",
        "model_r = make_pipeline(\n",
        "    OneHotEncoder(use_cat_names = True),\n",
        "    StandardScaler(),\n",
        "    Ridge(alpha = 10, normalize = False)\n",
        ")\n",
        "\n",
        "model_r.fit(X_train, y_train)"
      ],
      "execution_count": 17,
      "outputs": [
        {
          "output_type": "stream",
          "text": [
            "/usr/local/lib/python3.7/dist-packages/category_encoders/utils.py:21: FutureWarning: is_categorical is deprecated and will be removed in a future version.  Use is_categorical_dtype instead\n",
            "  elif pd.api.types.is_categorical(cols):\n"
          ],
          "name": "stderr"
        },
        {
          "output_type": "execute_result",
          "data": {
            "text/plain": [
              "Pipeline(memory=None,\n",
              "         steps=[('onehotencoder',\n",
              "                 OneHotEncoder(cols=['Bldg_Type', 'Central_Air', 'House_Style',\n",
              "                                     'Kitchen_Qual', 'MS_Zoning', 'Paved_Drive',\n",
              "                                     'Sale_Condition'],\n",
              "                               drop_invariant=False, handle_missing='value',\n",
              "                               handle_unknown='value', return_df=True,\n",
              "                               use_cat_names=True, verbose=0)),\n",
              "                ('standardscaler',\n",
              "                 StandardScaler(copy=True, with_mean=True, with_std=True)),\n",
              "                ('ridge',\n",
              "                 Ridge(alpha=10, copy_X=True, fit_intercept=True, max_iter=None,\n",
              "                       normalize=False, random_state=None, solver='auto',\n",
              "                       tol=0.001))],\n",
              "         verbose=False)"
            ]
          },
          "metadata": {
            "tags": []
          },
          "execution_count": 17
        }
      ]
    },
    {
      "cell_type": "markdown",
      "metadata": {
        "deletable": false,
        "editable": false,
        "nbgrader": {
          "cell_type": "markdown",
          "checksum": "90aa367eafd0e03865b2cc63362e514b",
          "grade": false,
          "grade_id": "cell-2aa05e9d2072aafc",
          "locked": true,
          "schema_version": 3,
          "solution": false,
          "task": false
        },
        "id": "WkoWe9Eb0QiL"
      },
      "source": [
        "**Task 7 Testing**"
      ]
    },
    {
      "cell_type": "code",
      "metadata": {
        "deletable": false,
        "editable": false,
        "nbgrader": {
          "cell_type": "code",
          "checksum": "494444724b003384b1d52268e65b1de5",
          "grade": true,
          "grade_id": "cell-587e7ab699c005cb",
          "locked": true,
          "points": 1,
          "schema_version": 3,
          "solution": false,
          "task": false
        },
        "id": "YGY85CWZ0QiM"
      },
      "source": [
        "assert isinstance(model_r, Pipeline), '`model_r` is not a pipeline.'\n",
        "assert len(model_r.named_steps) > 1, 'Your `model_r` pipeline is missing components.'"
      ],
      "execution_count": 18,
      "outputs": []
    },
    {
      "cell_type": "markdown",
      "metadata": {
        "deletable": false,
        "editable": false,
        "nbgrader": {
          "cell_type": "markdown",
          "checksum": "86f0a8fefb8c3757979597e025f9e21f",
          "grade": false,
          "grade_id": "cell-cb2403e89e718a6d",
          "locked": true,
          "schema_version": 3,
          "solution": false,
          "task": false
        },
        "id": "kX9i93tQ0QiM"
      },
      "source": [
        "## V. Check Metrics\n",
        "\n",
        "**Task 8:** Compare your models by calculating their mean absolute error for the training and validation sets. You should assign these to the variables `model_lr_training_mae`, `model_lr_validation_mae`, `model_r_training_mae`, and `model_r_validation_mae`, respectively. The validation MAE for both your models should be lower than your `baseline_mae`."
      ]
    },
    {
      "cell_type": "code",
      "metadata": {
        "deletable": false,
        "nbgrader": {
          "cell_type": "code",
          "checksum": "0c2faccf61831b14df7ab3c03e64a33b",
          "grade": false,
          "grade_id": "cell-10ea192c7e6ee9de",
          "locked": false,
          "schema_version": 3,
          "solution": true,
          "task": false
        },
        "colab": {
          "base_uri": "https://localhost:8080/"
        },
        "id": "h-23340Z0QiM",
        "outputId": "8458ab1d-9597-4d6a-f207-168c2a55d732"
      },
      "source": [
        "'''T8: Compare model metrics, MAE.'''\n",
        "# YOUR CODE HERE\n",
        "\n",
        "y_pred_train_lr = model_lr.predict(X_train) # Calculate y_pred for training data using linear regression model\n",
        "y_pred_val_lr = model_lr.predict(X_val) # Calculate y_pred for validation data using linear regression model\n",
        "\n",
        "y_pred_train_r = model_r.predict(X_train) # Calculate y_pred for training data using ridge regression model\n",
        "y_pred_val_r = model_r.predict(X_val) # Calculate y_pred for validation data using ridge regression model\n",
        "\n",
        "model_lr_training_mae = mean_absolute_error(y_train, y_pred_train_lr) # Calculate MAE for training data using linear regression model\n",
        "model_lr_validation_mae = mean_absolute_error(y_val, y_pred_val_lr) # Calculate MAE for valiudation data using linear regression model\n",
        "\n",
        "model_r_training_mae = mean_absolute_error(y_train, y_pred_train_r) # Calculate MAE for training data using ridge regression model\n",
        "model_r_validation_mae = mean_absolute_error(y_val, y_pred_val_r) # Calculate MAE for training data using ridge regression model\n",
        "\n",
        "print('Linear Regression Model')\n",
        "print('Training MAE:', model_lr_training_mae)\n",
        "print('Validation MAE:', model_lr_validation_mae)\n",
        "print()\n",
        "print('Ridge Regression Model')\n",
        "print('Training MAE:', model_r_training_mae)\n",
        "print('Validation MAE:', model_r_validation_mae)"
      ],
      "execution_count": 19,
      "outputs": [
        {
          "output_type": "stream",
          "text": [
            "Linear Regression Model\n",
            "Training MAE: 21339.353783698603\n",
            "Validation MAE: 21200.925281307187\n",
            "\n",
            "Ridge Regression Model\n",
            "Training MAE: 20281.825089573824\n",
            "Validation MAE: 20243.171059366232\n"
          ],
          "name": "stdout"
        }
      ]
    },
    {
      "cell_type": "markdown",
      "metadata": {
        "deletable": false,
        "editable": false,
        "nbgrader": {
          "cell_type": "markdown",
          "checksum": "0d253121492c2cdb1eced8eed2776b35",
          "grade": false,
          "grade_id": "cell-2ec63ac76b9a8d09",
          "locked": true,
          "schema_version": 3,
          "solution": false,
          "task": false
        },
        "id": "lG2CPbJz0QiN"
      },
      "source": [
        "**Task 8 Testing**"
      ]
    },
    {
      "cell_type": "code",
      "metadata": {
        "deletable": false,
        "editable": false,
        "nbgrader": {
          "cell_type": "code",
          "checksum": "865bfca633e9cfd2c5dd0adac5b5a183",
          "grade": true,
          "grade_id": "cell-e467cc19a51d9a41",
          "locked": true,
          "points": 1,
          "schema_version": 3,
          "solution": false,
          "task": false
        },
        "id": "jdfdl-VK0QiN"
      },
      "source": [
        "'''T8 Tests'''\n",
        "assert isinstance(model_lr_training_mae, float), '`model_lr_training_mae` is not a float. Did you assign a value to this variable?'\n",
        "assert isinstance(model_lr_validation_mae, float), '`model_lr_validation_mae` is not a float. Did you assign a value to this variable?'\n",
        "assert isinstance(model_r_training_mae, float), '`model_r_training_mae` is not a float. Did you assign a value to this variable?'\n",
        "assert isinstance(model_r_validation_mae, float), '`model_r_validation_mae` is not a float. Did you assign a value to this variable?'"
      ],
      "execution_count": 20,
      "outputs": []
    },
    {
      "cell_type": "markdown",
      "metadata": {
        "deletable": false,
        "editable": false,
        "nbgrader": {
          "cell_type": "markdown",
          "checksum": "cfd848fa6845b865766fdacba122f739",
          "grade": false,
          "grade_id": "cell-0299e563a01e1b52",
          "locked": true,
          "schema_version": 3,
          "solution": false,
          "task": false
        },
        "id": "1H9iRS2R0QiN"
      },
      "source": [
        "**Task 9:** Compare your two models by calculating their $R^2$ score for the **validation data**."
      ]
    },
    {
      "cell_type": "code",
      "metadata": {
        "deletable": false,
        "nbgrader": {
          "cell_type": "code",
          "checksum": "194fd47bb0c692386205a20dce6d0ebd",
          "grade": false,
          "grade_id": "cell-92d55f4de3bb7f31",
          "locked": false,
          "schema_version": 3,
          "solution": true,
          "task": false
        },
        "colab": {
          "base_uri": "https://localhost:8080/"
        },
        "id": "_nInwZcM0QiN",
        "outputId": "e95e07b4-7877-4fdd-9d15-8886459ee7be"
      },
      "source": [
        "'''T9: Compare model metrics, R^2.'''\n",
        "# YOUR CODE HERE\n",
        "from sklearn.metrics import r2_score\n",
        "\n",
        "model_lr_r2_score = r2_score(y_val, y_pred_val_lr) # Calculate R^2 Score for validation data using linear regression model\n",
        "\n",
        "model_r_r2_score = r2_score(y_val, y_pred_val_r) # Calculate R^2 Score for validation data using ridge regression model\n",
        "\n",
        "print('Linear Regression R^2:', model_lr_r2_score)\n",
        "print('Ridge Regression R^2:', model_r_r2_score)"
      ],
      "execution_count": 21,
      "outputs": [
        {
          "output_type": "stream",
          "text": [
            "Linear Regression R^2: 0.854813050267718\n",
            "Ridge Regression R^2: 0.868296372797339\n"
          ],
          "name": "stdout"
        }
      ]
    },
    {
      "cell_type": "markdown",
      "metadata": {
        "deletable": false,
        "editable": false,
        "nbgrader": {
          "cell_type": "markdown",
          "checksum": "cdab1c4db0fa73faa3accb9a7f45c538",
          "grade": false,
          "grade_id": "cell-3b4914d6284ec6da",
          "locked": true,
          "schema_version": 3,
          "solution": false,
          "task": false
        },
        "id": "wd0Gd91m0QiO"
      },
      "source": [
        "**Task 9 Testing**"
      ]
    },
    {
      "cell_type": "code",
      "metadata": {
        "deletable": false,
        "editable": false,
        "nbgrader": {
          "cell_type": "code",
          "checksum": "9f96edc1cb343a3135e61e9657a73a32",
          "grade": true,
          "grade_id": "cell-7b79f2550b912074",
          "locked": true,
          "points": 1,
          "schema_version": 3,
          "solution": false,
          "task": false
        },
        "id": "EVAMoNQQ0QiO"
      },
      "source": [
        "'''T9 Tests'''\n",
        "assert isinstance(model_lr_r2_score, float), '`model_lr_r2_score` is not a float. Did you assign a value to this variable?'\n",
        "assert isinstance(model_r_r2_score, float), '`model_r_r2_score` is not a float. Did you assign a value to this variable?'\n",
        "assert model_lr_r2_score <= 1, 'The maximum value for an R^2 score is 1.'\n",
        "assert model_r_r2_score <= 1, 'The maximum value for an R^2 score is 1.'"
      ],
      "execution_count": 22,
      "outputs": []
    },
    {
      "cell_type": "markdown",
      "metadata": {
        "id": "GXUMRnul0QiP"
      },
      "source": [
        "**Task 10:** Based on the metrics above, choose the best of your two models and generate an array of predictions `y_pred` using the test set below.\n",
        "\n",
        "**Note:** Make sure that you import and clean the test set *exactly the same way* you did with the training set at the start of this notebook."
      ]
    },
    {
      "cell_type": "code",
      "metadata": {
        "deletable": false,
        "nbgrader": {
          "cell_type": "code",
          "checksum": "e72becd77504ec4f4855ef07c4b7edfb",
          "grade": false,
          "grade_id": "cell-87695ab01935fdd9",
          "locked": false,
          "schema_version": 3,
          "solution": true,
          "task": false
        },
        "colab": {
          "base_uri": "https://localhost:8080/"
        },
        "id": "u621-6960QiP",
        "outputId": "ac2859f7-04e6-47df-d925-09999f10257f"
      },
      "source": [
        "url_test = 'https://drive.google.com/uc?export=download&id=1y9u8cOWprTjruw8E-ct1c7YaEytToqd_'\n",
        "X_test = pd.read_csv(url_test)\n",
        "\n",
        "# YOUR CODE HERE\n",
        "X_test['Yr_Sold'] = pd.to_datetime(X_test['Yr_Sold']) # Transform 'Yr_Sold' column to DateTime format\n",
        "X_test = X_test.set_index('Yr_Sold') # Set 'Yr_Sold' column as index for the DataFrame\n",
        "X_test = X_test[features_1] # Isolate the same features in testing date as those selected for the training and validation data\n",
        "\n",
        "y_pred = model_r.predict(X_test) # Calculate y_pred for testing data using ridge regression model\n",
        "print('My predictions:', y_pred[:3])"
      ],
      "execution_count": 23,
      "outputs": [
        {
          "output_type": "stream",
          "text": [
            "My predictions: [197592.51075328 112690.37911651 166750.98174025]\n"
          ],
          "name": "stdout"
        }
      ]
    },
    {
      "cell_type": "markdown",
      "metadata": {
        "id": "BCcKcT1IMzBl"
      },
      "source": [
        "**Evaluate Features Using KBest Function**"
      ]
    },
    {
      "cell_type": "code",
      "metadata": {
        "colab": {
          "base_uri": "https://localhost:8080/"
        },
        "id": "Gna0U9t7AbrW",
        "outputId": "c4eccf52-dd4c-4236-f5ad-02b8da1528bd"
      },
      "source": [
        "from sklearn.feature_selection import SelectKBest, f_regression\n",
        "\n",
        "ohe = OneHotEncoder(use_cat_names = True)\n",
        "\n",
        "X_train_ohe = ohe.fit_transform(X_train) # Use OneHotEncoder to transform training data outside of pipeline\n",
        "\n",
        "scale = StandardScaler()\n",
        "\n",
        "X_train_scaled = scale.fit_transform(X_train_ohe) # Use StandardScaler to scale OneHotEncoded training data outsideof pipeline\n",
        "\n",
        "selector = SelectKBest(score_func = f_regression, k = 30) # Set up KBest to calculate the top 30 features in the training data\n",
        "\n",
        "X_train_KBest = selector.fit_transform(X_train_scaled, y_train)\n",
        "\n",
        "X_train_KBest.shape"
      ],
      "execution_count": 24,
      "outputs": [
        {
          "output_type": "stream",
          "text": [
            "/usr/local/lib/python3.7/dist-packages/category_encoders/utils.py:21: FutureWarning: is_categorical is deprecated and will be removed in a future version.  Use is_categorical_dtype instead\n",
            "  elif pd.api.types.is_categorical(cols):\n"
          ],
          "name": "stderr"
        },
        {
          "output_type": "execute_result",
          "data": {
            "text/plain": [
              "(1920, 30)"
            ]
          },
          "metadata": {
            "tags": []
          },
          "execution_count": 24
        }
      ]
    },
    {
      "cell_type": "code",
      "metadata": {
        "colab": {
          "base_uri": "https://localhost:8080/"
        },
        "id": "GA5sOP_THYcQ",
        "outputId": "7917b331-8cc3-4b43-81c1-82f65f5baebc"
      },
      "source": [
        "selected_mask = selector.get_support() # Use get_support method to get a mask of the features selected by KBest\n",
        "\n",
        "all_names = X_train_ohe.columns # Assign all column names in the OneHotEncoded training dataset\n",
        "KBest_features = all_names[selected_mask] # Assign the names of the features selected by KBest\n",
        "not_KBest_features = all_names[~selected_mask] # Assign the names of the features not selected by KBest\n",
        "\n",
        "print('Features Selected by KBest:') \n",
        "for name in KBest_features: # Loop through and print the names of the features selected by KBest\n",
        "  print('\\n', name, '\\n' )\n",
        "\n",
        "print('Features Not Selected by KBest:')\n",
        "for name in not_KBest_features: # Loop through and print the names of the features not selected by KBest\n",
        "  print('\\n', name, '\\n' )"
      ],
      "execution_count": 25,
      "outputs": [
        {
          "output_type": "stream",
          "text": [
            "Features Selected by KBest:\n",
            "\n",
            " 1st_Flr_SF \n",
            "\n",
            "\n",
            " Bedroom_AbvGr \n",
            "\n",
            "\n",
            " Bldg_Type_Duplex \n",
            "\n",
            "\n",
            " Bldg_Type_Twnhs \n",
            "\n",
            "\n",
            " Bsmt_Full_Bath \n",
            "\n",
            "\n",
            " Central_Air_Y \n",
            "\n",
            "\n",
            " Central_Air_N \n",
            "\n",
            "\n",
            " Full_Bath \n",
            "\n",
            "\n",
            " Gr_Liv_Area \n",
            "\n",
            "\n",
            " Half_Bath \n",
            "\n",
            "\n",
            " House_Style_2Story \n",
            "\n",
            "\n",
            " House_Style_1.5Fin \n",
            "\n",
            "\n",
            " Kitchen_AbvGr \n",
            "\n",
            "\n",
            " Kitchen_Qual_TA \n",
            "\n",
            "\n",
            " Kitchen_Qual_Gd \n",
            "\n",
            "\n",
            " Kitchen_Qual_Ex \n",
            "\n",
            "\n",
            " Kitchen_Qual_Fa \n",
            "\n",
            "\n",
            " Lot_Area \n",
            "\n",
            "\n",
            " MS_Zoning_RL \n",
            "\n",
            "\n",
            " MS_Zoning_RM \n",
            "\n",
            "\n",
            " Overall_Cond \n",
            "\n",
            "\n",
            " Overall_Qual \n",
            "\n",
            "\n",
            " Paved_Drive_Y \n",
            "\n",
            "\n",
            " Paved_Drive_N \n",
            "\n",
            "\n",
            " Sale_Condition_Normal \n",
            "\n",
            "\n",
            " Sale_Condition_Abnorml \n",
            "\n",
            "\n",
            " Sale_Condition_Partial \n",
            "\n",
            "\n",
            " TotRms_AbvGrd \n",
            "\n",
            "\n",
            " Year_Built \n",
            "\n",
            "\n",
            " Year_Remod/Add \n",
            "\n",
            "Features Not Selected by KBest:\n",
            "\n",
            " Bldg_Type_1Fam \n",
            "\n",
            "\n",
            " Bldg_Type_TwnhsE \n",
            "\n",
            "\n",
            " Bldg_Type_2fmCon \n",
            "\n",
            "\n",
            " Bsmt_Half_Bath \n",
            "\n",
            "\n",
            " House_Style_1Story \n",
            "\n",
            "\n",
            " House_Style_SLvl \n",
            "\n",
            "\n",
            " House_Style_2.5Unf \n",
            "\n",
            "\n",
            " House_Style_SFoyer \n",
            "\n",
            "\n",
            " House_Style_1.5Unf \n",
            "\n",
            "\n",
            " House_Style_2.5Fin \n",
            "\n",
            "\n",
            " MS_SubClass \n",
            "\n",
            "\n",
            " MS_Zoning_RH \n",
            "\n",
            "\n",
            " MS_Zoning_FV \n",
            "\n",
            "\n",
            " MS_Zoning_A (agr) \n",
            "\n",
            "\n",
            " MS_Zoning_C (all) \n",
            "\n",
            "\n",
            " MS_Zoning_I (all) \n",
            "\n",
            "\n",
            " Mo_Sold \n",
            "\n",
            "\n",
            " Paved_Drive_P \n",
            "\n",
            "\n",
            " Sale_Condition_Family \n",
            "\n",
            "\n",
            " Sale_Condition_Alloca \n",
            "\n",
            "\n",
            " Sale_Condition_AdjLand \n",
            "\n"
          ],
          "name": "stdout"
        }
      ]
    },
    {
      "cell_type": "markdown",
      "metadata": {
        "deletable": false,
        "editable": false,
        "nbgrader": {
          "cell_type": "markdown",
          "checksum": "a80a31eaf092ba24ab86f6d5e1ec9494",
          "grade": false,
          "grade_id": "cell-94a472804463b225",
          "locked": true,
          "schema_version": 3,
          "solution": false,
          "task": false
        },
        "id": "-q1qsNFk0QiQ"
      },
      "source": [
        "**Task 10 Testing:** There is a hidden test in the cell below. When you submit your notebook to Canvas, your test MAE will be calculated. In order to get the point for this task, your test MAE must be below 58,000.\n",
        "\n",
        "**Tip:** Use your validation MAE to estimate what your test MAE will be."
      ]
    },
    {
      "cell_type": "code",
      "metadata": {
        "deletable": false,
        "editable": false,
        "nbgrader": {
          "cell_type": "code",
          "checksum": "8db84fc1232302dcfbccf4dba2c3221e",
          "grade": true,
          "grade_id": "cell-c3c94d263dabfe02",
          "locked": true,
          "points": 1,
          "schema_version": 3,
          "solution": false,
          "task": false
        },
        "id": "5ecLzktL0QiQ"
      },
      "source": [
        "import numpy as np\n",
        "assert isinstance(y_pred, np.ndarray), '`y_pred` should be type `ndarray`.'\n",
        "assert y_pred.shape == (340,), '`y_pred` should be a 1-dimentional array with 340 predictions.'\n",
        "# Your test MAE will be printed out below when you submit your assignment."
      ],
      "execution_count": 26,
      "outputs": []
    },
    {
      "cell_type": "markdown",
      "metadata": {
        "deletable": false,
        "editable": false,
        "nbgrader": {
          "cell_type": "markdown",
          "checksum": "c07fa550b9f9172838d15922e90af360",
          "grade": false,
          "grade_id": "cell-281a86aa67d353e9",
          "locked": true,
          "schema_version": 3,
          "solution": false,
          "task": false
        },
        "id": "-wQerJt80QiQ"
      },
      "source": [
        "**Task 11 (`stretch goal`):** There's no code to write for this task. Below is another testing cell that will calculate the MAE for your test set. In order to get the point for this task, your test MAE must be below 18,000.\n",
        "\n",
        "**Tip:** Are there any **hyperparameters** in your model that you could adjust to improve performance? "
      ]
    },
    {
      "cell_type": "code",
      "metadata": {
        "deletable": false,
        "editable": false,
        "nbgrader": {
          "cell_type": "code",
          "checksum": "a1d7e19ba4855a945493c2d442e931e8",
          "grade": true,
          "grade_id": "cell-40815d96e2a2adf9",
          "locked": true,
          "points": 1,
          "schema_version": 3,
          "solution": false,
          "task": false
        },
        "id": "QkRBV06O0QiQ"
      },
      "source": [
        "assert isinstance(y_pred, np.ndarray), '`y_pred` should be type `ndarray`.'\n",
        "assert y_pred.shape == (340,), '`y_pred` should be a 1-dimentional array with 340 predictions.'\n",
        "# Your test MAE will be printed out below when you submit your assignment."
      ],
      "execution_count": 27,
      "outputs": []
    },
    {
      "cell_type": "markdown",
      "metadata": {
        "deletable": false,
        "editable": false,
        "nbgrader": {
          "cell_type": "markdown",
          "checksum": "be6e79e32e8e72ffb454996bc15a4708",
          "grade": false,
          "grade_id": "cell-e724aba3fc221134",
          "locked": true,
          "schema_version": 3,
          "solution": false,
          "task": false
        },
        "id": "qrSk4lZH0QiR"
      },
      "source": [
        "## VI. Explain Model\n",
        "\n",
        "**Task 12 (`stretch goal`):** Create a horizontal barchart for your best performing model that shows the ten most important features for the model's predictions. Don't forget to label your axes!"
      ]
    },
    {
      "cell_type": "code",
      "metadata": {
        "deletable": false,
        "nbgrader": {
          "cell_type": "code",
          "checksum": "22360b5fca505bd10654fae809bf2797",
          "grade": false,
          "grade_id": "cell-ebd0b1ea2eab31c6",
          "locked": false,
          "schema_version": 3,
          "solution": true,
          "task": false
        },
        "colab": {
          "base_uri": "https://localhost:8080/",
          "height": 513
        },
        "id": "ijX2py8E0QiR",
        "outputId": "55ad12d1-50c5-4629-b377-54f51163d6c5"
      },
      "source": [
        "# YOUR CODE HERE\n",
        "\n",
        "coefficients = pd.Series(model_r.steps[2][1].coef_, X_train_ohe.columns) # Create a pandas series using the ridge regression coefficients and the column names used in the model\n",
        "coef_top_8 = coefficients.nlargest(8) # Isolate Top 8 features (by coefficient size)\n",
        "coef_bot_2 = coefficients.nsmallest(2) # Isolate Bottom 2 features (by coefficient size)\n",
        "coef_top_10 = coef_top_8.append(coef_bot_2) # Append the Bottom 2 features to the Top 8 features (by coefficient size)\n",
        "\n",
        "plt.figure(figsize = [8, 8])\n",
        "\n",
        "coef_top_10.sort_values().plot.barh(color = 'blue') # Set up horizontal bar chart of the Ridge Regression Coefficients\n",
        "plt.xlabel('Coefficient Value') # Set up name for y-axis\n",
        "plt.ylabel('Feature Name') # Set up name for y-axis\n",
        "plt.title('Top 10 Ridge Regression Coefficients') # Set up table name\n",
        "plt.show()"
      ],
      "execution_count": 50,
      "outputs": [
        {
          "output_type": "display_data",
          "data": {
            "image/png": "[encoded data removed]",
            "text/plain": [
              "<Figure size 576x576 with 1 Axes>"
            ]
          },
          "metadata": {
            "tags": [],
            "needs_background": "light"
          }
        }
      ]
    }
  ]
}